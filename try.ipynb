{
 "cells": [
  {
   "cell_type": "code",
   "execution_count": null,
   "metadata": {},
   "outputs": [
    {
     "name": "stdout",
     "output_type": "stream",
     "text": [
      "{'help': 'https://data.overheid.nl/data/api/3/action/help_show?name=package_search', 'success': True, 'result': {'count': 53, 'sort': 'score desc, metadata_modified desc', 'facets': {}, 'results': [{'dataset_status': 'http://data.overheid.nl/status/beschikbaar', 'maintainer': None, 'referentie_data': 'false', 'contact_point_email': 'opendata@groningen.nl', 'authority': 'http://standaarden.overheid.nl/owms/terms/Groningen_(gemeente)', 'maintainer_email': None, 'num_tags': 3, 'frequency': 'http://publications.europa.eu/resource/authority/frequency/ANNUAL', 'metadata_language': 'http://publications.europa.eu/resource/authority/language/NLD', 'high_value': 'false', 'contact_point_name': 'Team Open Data', 'metadata_created': '2024-10-16T11:06:54.041237', 'metadata_modified': '2024-10-16T11:10:16.011764', 'author': None, 'author_email': None, 'access_rights': 'http://publications.europa.eu/resource/authority/access-right/PUBLIC', 'id': '20f25e10-03c6-4e86-91d6-4919e6532ed0', 'theme': ['http://standaarden.overheid.nl/owms/terms/Politie_brandweer_en_hulpdiensten'], 'state': 'active', 'relationships_as_object': [], 'license_id': 'http://creativecommons.org/licenses/by/4.0/deed.nl', 'type': 'dataset', 'resources': [{'cache_last_updated': None, 'package_id': '20f25e10-03c6-4e86-91d6-4919e6532ed0', 'metadata_language': 'http://publications.europa.eu/resource/authority/language/NLD', 'id': 'edbcf09e-9fc3-4a46-855d-d357bdb83fb4', 'state': 'active', 'license_id': 'http://creativecommons.org/licenses/by/4.0/deed.nl', 'description': 'Auteur: Brandweerzorg gebied Groningen', 'format': 'http://publications.europa.eu/resource/authority/file-type/PDF', 'mimetype_inner': None, 'distribution_type': 'https://data.overheid.nl/distributiontype/download', 'url_type': None, 'mimetype': None, 'cache_url': None, 'name': 'Brandweer in één oogopslag, 2023', 'language': ['http://publications.europa.eu/resource/authority/language/NLD'], 'created': '2024-10-16T11:10:14.286565', 'url': 'https://data.groningen.nl/sites/default/files/open-data/infographic-brandweer-jaaroverzicht-2023-provincie.pdf', 'release_date': '2024-10-16T00:00:00', 'last_modified': None, 'position': 0, 'revision_id': '3522a596-f5ca-4c08-ad3e-9698cd4b9c00', 'resource_type': None}], 'num_resources': 1, 'tags': [{'vocabulary_id': None, 'state': 'active', 'display_name': 'brandweer', 'id': 'fe272c84-9e8e-461f-a4be-7ef94772d6c9', 'name': 'brandweer'}, {'vocabulary_id': None, 'state': 'active', 'display_name': 'uitrukken', 'id': '6b841f87-c78a-49d2-a5c2-2489b1accf3c', 'name': 'uitrukken'}, {'vocabulary_id': None, 'state': 'active', 'display_name': 'veiligheid', 'id': '03804c44-ec73-4a83-b937-8cb743eb9690', 'name': 'veiligheid'}], 'language': ['http://publications.europa.eu/resource/authority/language/NLD'], 'basis_register': 'false', 'national_coverage': 'false', 'groups': [], 'creator_user_id': 'bdf8720e-08c5-49ff-bf54-ec831fdd4ea7', 'source_catalog': 'https://groningen.dexcat.nl', 'relationships_as_subject': [], 'license_title': 'CC-BY (4.0)', 'publisher': 'http://standaarden.overheid.nl/owms/terms/Groningen_(gemeente)', 'organization': {'description': '', 'created': '2022-09-29T07:25:09.759357', 'title': 'Gemeente Groningen', 'name': 'data-groningen-nl', 'is_organization': True, 'state': 'active', 'image_url': '2024-10-15-082012.979792gemeente-groningen.png', 'revision_id': '331333c9-3af0-43f6-b3bd-6b204cc83c6a', 'type': 'organization', 'id': 'b82161e9-b284-4d88-bd2d-53efeb838200', 'approval_status': 'approved'}, 'name': 'groningen-brandweer-in-n-oogopslag', 'isopen': False, 'changetype': ':updated', 'owner_org': 'b82161e9-b284-4d88-bd2d-53efeb838200', 'modified': '2024-10-16T13:06:51', 'private': False, 'license_url': 'http://creativecommons.org/licenses/by/4.0/deed.nl', 'title': 'Brandweer in één oogopslag', 'revision_id': '708f95c7-374f-4792-a152-0eb0eb4d79e0', 'identifier': 'https://data.groningen.nl/dataset/brandweer-in-n-oogopslag', 'notes': 'Infographic over de brandweer die jaarlijks gemaakt wordt. \\r\\n\\r\\nEen breed overzicht met statistieken van de brandweer op regionaal niveau, provincie Groningen.'}, {'dataset_status': 'http://data.overheid.nl/status/beschikbaar', 'maintainer': None, 'referentie_data': 'false', 'contact_point_email': 'opendata@nipv.nl', 'authority': 'https://data.overheid.nl/organisatie/nipv', 'maintainer_email': None, 'num_tags': 4, 'metadata_language': 'http://publications.europa.eu/resource/authority/language/NLD', 'high_value': 'false', 'contact_point_name': 'Vakgroep Datawetenschappen', 'metadata_created': '2024-09-04T11:23:06.660440', 'metadata_modified': '2024-09-05T08:25:06.976960', 'author': None, 'author_email': None, 'tags': [{'vocabulary_id': None, 'state': 'active', 'display_name': 'brandweer', 'id': 'fe272c84-9e8e-461f-a4be-7ef94772d6c9', 'name': 'brandweer'}, {'vocabulary_id': None, 'state': 'active', 'display_name': 'brandweerkazerne', 'id': '9569c987-f09c-4320-8e0c-abb84039b51b', 'name': 'brandweerkazerne'}, {'vocabulary_id': None, 'state': 'active', 'display_name': 'kazerne', 'id': 'da76bfc7-a884-4679-97bb-893135c4e33d', 'name': 'kazerne'}, {'vocabulary_id': None, 'state': 'active', 'display_name': 'locatie', 'id': '585f8083-36c1-47a7-8e7d-804d3bcdbf7f', 'name': 'locatie'}], 'access_rights': 'http://publications.europa.eu/resource/authority/access-right/PUBLIC', 'id': 'adc6fabd-828f-4926-9fd9-b1fabc992bd5', 'contact_point_website': 'https://www.nipv.nl', 'theme': ['http://standaarden.overheid.nl/owms/terms/Politie_brandweer_en_hulpdiensten'], 'relationships_as_object': [], 'license_id': 'http://creativecommons.org/licenses/by/4.0/deed.nl', 'type': 'dataset', 'resources': [{'cache_last_updated': None, 'package_id': 'adc6fabd-828f-4926-9fd9-b1fabc992bd5', 'previewUrl': 'None', 'id': 'a84cfd37-8c79-48f4-96fc-528a72493b08', 'state': 'active', 'license_id': 'http://creativecommons.org/licenses/by/4.0/deed.nl', 'description': 'Online tool waarmee een gebruiker zelf tabellen, grafieken en kaartjes kan samenstellen.', 'format': 'http://publications.europa.eu/resource/authority/file-type/ATOM', 'mimetype_inner': None, 'distribution_type': 'https://data.overheid.nl/distributiontype/webservice', 'url_type': None, 'hasLegend': 'False', 'mimetype': None, 'cache_url': None, 'name': 'Databank', 'language': ['http://publications.europa.eu/resource/authority/language/NLD'], 'created': '2024-09-04T11:24:51.208508', 'resourceType': 'None', 'url': 'https://kerncijfers.nipv.nl/viewer/?cat_open=kazernes', 'last_modified': None, 'position': 0, 'revision_id': '06785418-fea7-4bdb-b296-a08bbe97f8b0', 'resource_type': None, 'metadata_language': 'http://publications.europa.eu/resource/authority/language/NLD'}], 'num_resources': 1, 'state': 'active', 'language': ['http://publications.europa.eu/resource/authority/language/NLD'], 'basis_register': 'false', 'national_coverage': 'true', 'groups': [], 'creator_user_id': 'ee40a870-8366-49a3-a1fb-a3478b86782b', 'source_catalog': 'https://data.overheid.nl', 'relationships_as_subject': [], 'license_title': 'CC-BY (4.0)', 'publisher': 'https://data.overheid.nl/organisatie/nipv', 'organization': {'description': '', 'created': '2020-01-20T16:05:16.027273', 'title': 'DONL Dataregister', 'name': 'data-overheid-nl', 'is_organization': True, 'state': 'active', 'image_url': '2024-10-15-081427.979173overheidnl.jpg', 'revision_id': '92b35652-13f7-4c9a-8aca-4e63b564282d', 'type': 'organization', 'id': 'b1abeb8a-fa82-4a28-9b92-2f6360976a78', 'approval_status': 'approved'}, 'name': 'brandweer-kerncijfers-kazernes-vanaf-2018', 'isopen': False, 'url': 'https://nipv.nl/wp-content/uploads/2024/09/20240902-NIPV-Kerncijfers-Kazernes-Toelichting-en-definities.pdf', 'changetype': ':updated', 'owner_org': 'b1abeb8a-fa82-4a28-9b92-2f6360976a78', 'modified': '2024-09-05T10:24:46', 'private': False, 'license_url': 'http://creativecommons.org/licenses/by/4.0/deed.nl', 'title': 'Brandweer, Kerncijfers Kazernes vanaf 2018', 'revision_id': 'e8811940-855a-43f4-a640-77589a91c157', 'identifier': 'https://data.overheid.nl/dataset/brandweer-kerncijfers-kazernes-vanaf-2018', 'notes': 'Deze dataset bevat gegevens over de locaties en types van brandweerkazernes in Nederland.\\r\\n\\r\\nDe gegevens zijn beschikbaar vanaf 2018.\\r\\n\\r\\nDe cijfers worden jaarlijks geüpdate, doorgaans aan het eind van het eerste kwartaal.'}, {'dataset_status': 'http://data.overheid.nl/status/beschikbaar', 'maintainer': None, 'referentie_data': 'false', 'contact_point_email': 'opendata@nipv.nl', 'authority': 'https://data.overheid.nl/organisatie/nipv', 'maintainer_email': None, 'num_tags': 5, 'metadata_language': 'http://publications.europa.eu/resource/authority/language/NLD', 'high_value': 'false', 'contact_point_name': 'Vakgroep Datawetenschappen', 'metadata_created': '2024-12-02T08:42:38.187145', 'metadata_modified': '2024-12-02T09:18:16.958139', 'author': None, 'author_email': None, 'tags': [{'vocabulary_id': None, 'state': 'active', 'display_name': 'Brandweer', 'id': '222bc169-d352-44d7-b99b-e8a6efaba526', 'name': 'Brandweer'}, {'vocabulary_id': None, 'state': 'active', 'display_name': 'Materieel', 'id': '8a27963d-d109-4a2f-9907-fcb09c90d609', 'name': 'Materieel'}, {'vocabulary_id': None, 'state': 'active', 'display_name': 'Tankautospuit', 'id': 'cd4f2492-187d-4ad5-ac0e-7a2f45f4d630', 'name': 'Tankautospuit'}, {'vocabulary_id': None, 'state': 'active', 'display_name': 'Type', 'id': '7e021063-11c2-459f-a81d-6566bc01bf04', 'name': 'Type'}, {'vocabulary_id': None, 'state': 'active', 'display_name': 'Voertuig', 'id': '2c0d1ef4-c416-4c7f-bc31-2cec9e7166d7', 'name': 'Voertuig'}], 'access_rights': 'http://publications.europa.eu/resource/authority/access-right/PUBLIC', 'id': 'f2f01420-870c-403a-ae0f-964871081ed1', 'contact_point_website': 'https://www.nipv.nl/', 'theme': ['http://standaarden.overheid.nl/owms/terms/Politie_brandweer_en_hulpdiensten'], 'relationships_as_object': [], 'license_id': 'http://creativecommons.org/licenses/by/4.0/deed.nl', 'type': 'dataset', 'resources': [{'cache_last_updated': None, 'package_id': 'f2f01420-870c-403a-ae0f-964871081ed1', 'previewUrl': None, 'id': 'd92da747-fda2-462e-bb69-f31cf10d42f4', 'state': 'active', 'license_id': 'http://creativecommons.org/licenses/by/4.0/deed.nl', 'description': 'Online tool waarmee een gebruiker zelf tabellen, grafieken en kaartjes kan samenstellen.', 'format': 'http://publications.europa.eu/resource/authority/file-type/ATOM', 'mimetype_inner': None, 'distribution_type': 'https://data.overheid.nl/distributiontype/download', 'url_type': None, 'hasLegend': False, 'mimetype': None, 'cache_url': None, 'name': 'Databank', 'language': ['http://publications.europa.eu/resource/authority/language/NLD'], 'created': '2024-12-02T09:06:13.874205', 'resourceType': None, 'url': 'https://kerncijfers.nipv.nl/viewer/?cat_open=materieel', 'last_modified': None, 'position': 0, 'revision_id': '52d02f2a-d601-409b-8e4b-9832e08ca402', 'resource_type': None, 'metadata_language': 'http://publications.europa.eu/resource/authority/language/NLD'}, {'cache_last_updated': None, 'package_id': 'f2f01420-870c-403a-ae0f-964871081ed1', 'previewUrl': None, 'id': '93c643a0-a652-4074-b9ea-f53fa2957dd6', 'state': 'active', 'license_id': 'http://creativecommons.org/licenses/by/4.0/deed.nl', 'description': 'Online tool waarmee een gebruiker zelf tabellen, grafieken en kaartjes kan samenstellen.', 'format': 'http://publications.europa.eu/resource/authority/file-type/ATOM', 'mimetype_inner': None, 'distribution_type': 'https://data.overheid.nl/distributiontype/webservice', 'url_type': None, 'hasLegend': False, 'mimetype': None, 'cache_url': None, 'name': 'Databank', 'language': ['http://publications.europa.eu/resource/authority/language/NLD'], 'created': '2024-12-02T09:06:50.062847', 'resourceType': None, 'url': 'https://kerncijfers.nipv.nl/viewer/?cat_open=materieel', 'last_modified': None, 'position': 1, 'revision_id': '456c0823-a620-449b-8660-49cdefbff686', 'resource_type': None, 'metadata_language': 'http://publications.europa.eu/resource/authority/language/NLD'}], 'num_resources': 2, 'state': 'active', 'language': ['http://publications.europa.eu/resource/authority/language/NLD'], 'basis_register': 'false', 'national_coverage': 'true', 'groups': [], 'creator_user_id': 'ee40a870-8366-49a3-a1fb-a3478b86782b', 'source_catalog': 'https://data.overheid.nl', 'relationships_as_subject': [], 'license_title': 'CC-BY (4.0)', 'publisher': 'https://data.overheid.nl/organisatie/nipv', 'organization': {'description': '', 'created': '2020-01-20T16:05:16.027273', 'title': 'DONL Dataregister', 'name': 'data-overheid-nl', 'is_organization': True, 'state': 'active', 'image_url': '2024-10-15-081427.979173overheidnl.jpg', 'revision_id': '92b35652-13f7-4c9a-8aca-4e63b564282d', 'type': 'organization', 'id': 'b1abeb8a-fa82-4a28-9b92-2f6360976a78', 'approval_status': 'approved'}, 'name': 'brandweer-kerncijfers-materieel-vanaf-2023', 'isopen': False, 'url': 'https://nipv.nl/documenten/kerncijfers-materieel-toelichting-en-definities/', 'changetype': ':updated', 'owner_org': 'b1abeb8a-fa82-4a28-9b92-2f6360976a78', 'modified': '2024-12-02T10:18:16', 'private': False, 'license_url': 'http://creativecommons.org/licenses/by/4.0/deed.nl', 'title': 'Brandweer, Kerncijfers Materieel vanaf 2023', 'revision_id': 'a6335e7d-2fac-421b-acdd-2d07757fb58f', 'identifier': 'https://data.overheid.nl/dataset/brandweer-kerncijfers-materieel-vanaf-2023', 'notes': 'Deze dataset bevat gegevens over een select aantal materieeltyperingen van brandweervoertuigen in Nederland.\\r\\n\\r\\nDe gegevens zijn beschikbaar van 2023.\\r\\n\\r\\nDe cijfers worden jaarlijks geüpdate, doorgaans aan het eind van het jaar.\\r\\n'}, {'dataset_status': 'http://data.overheid.nl/status/beschikbaar', 'maintainer': None, 'referentie_data': 'false', 'contact_point_email': 'opendata@nipv.nl', 'authority': 'https://data.overheid.nl/organisatie/nipv', 'maintainer_email': None, 'num_tags': 4, 'metadata_language': 'http://publications.europa.eu/resource/authority/language/NLD', 'high_value': 'false', 'contact_point_name': 'Vakgroep Datawetenschappen', 'metadata_created': '2024-08-22T12:59:27.812694', 'metadata_modified': '2024-08-22T13:11:16.987322', 'author': None, 'author_email': None, 'tags': [{'vocabulary_id': None, 'state': 'active', 'display_name': 'brandweer', 'id': 'fe272c84-9e8e-461f-a4be-7ef94772d6c9', 'name': 'brandweer'}, {'vocabulary_id': None, 'state': 'active', 'display_name': 'personeel', 'id': '4589cd35-5c22-4202-a381-5e57211f90af', 'name': 'personeel'}, {'vocabulary_id': None, 'state': 'active', 'display_name': 'ppmo', 'id': '8146ce31-ccf9-4660-9209-63977c85da6f', 'name': 'ppmo'}, {'vocabulary_id': None, 'state': 'active', 'display_name': 'repressief', 'id': '763892e3-bb68-4230-b473-516b902e4c1c', 'name': 'repressief'}], 'access_rights': 'http://publications.europa.eu/resource/authority/access-right/PUBLIC', 'id': '6d4732f4-2931-4975-b9be-1621b253e485', 'contact_point_website': 'https://www.nipv.nl', 'theme': ['http://standaarden.overheid.nl/owms/terms/Politie_brandweer_en_hulpdiensten'], 'relationships_as_object': [], 'license_id': 'http://creativecommons.org/licenses/by/4.0/deed.nl', 'type': 'dataset', 'resources': [{'cache_last_updated': None, 'package_id': '6d4732f4-2931-4975-b9be-1621b253e485', 'previewUrl': 'None', 'id': '66f30cad-9513-40ca-bb00-6f4307298848', 'state': 'active', 'license_id': 'http://creativecommons.org/licenses/by/4.0/deed.nl', 'description': 'Online tool waarmee een gebruiker zelf tabellen, grafieken en kaartjes kan samenstellen.', 'format': 'http://publications.europa.eu/resource/authority/file-type/ATOM', 'mimetype_inner': None, 'distribution_type': 'https://data.overheid.nl/distributiontype/webservice', 'url_type': None, 'hasLegend': 'False', 'mimetype': None, 'cache_url': None, 'name': 'Databank', 'language': ['http://publications.europa.eu/resource/authority/language/NLD'], 'created': '2024-08-22T13:01:47.290336', 'resourceType': 'None', 'url': 'https://kerncijfers.nipv.nl/viewer/?cat_open=personeel', 'last_modified': None, 'position': 0, 'revision_id': 'bcec7bce-e1f8-4686-b0d8-635cbc238eae', 'resource_type': None, 'metadata_language': 'http://publications.europa.eu/resource/authority/language/NLD'}, {'cache_last_updated': None, 'package_id': '6d4732f4-2931-4975-b9be-1621b253e485', 'previewUrl': 'None', 'id': '9490824e-8ae1-4911-8d41-da41b658d66e', 'state': 'active', 'license_id': 'http://creativecommons.org/licenses/by/4.0/deed.nl', 'description': 'Online tool waarmee een gebruiker zelf tabellen, grafieken en kaartjes kan samenstellen.', 'format': 'http://publications.europa.eu/resource/authority/file-type/ATOM', 'mimetype_inner': None, 'distribution_type': 'https://data.overheid.nl/distributiontype/webservice', 'url_type': None, 'hasLegend': 'False', 'mimetype': None, 'cache_url': None, 'name': 'Databank', 'language': ['http://publications.europa.eu/resource/authority/language/NLD'], 'created': '2024-08-22T13:01:59.717600', 'resourceType': 'None', 'url': 'https://kerncijfers.nipv.nl/viewer/?cat_open=personeel', 'last_modified': None, 'position': 1, 'revision_id': 'bcec7bce-e1f8-4686-b0d8-635cbc238eae', 'resource_type': None, 'metadata_language': 'http://publications.europa.eu/resource/authority/language/NLD'}], 'num_resources': 2, 'state': 'active', 'language': ['http://publications.europa.eu/resource/authority/language/NLD'], 'basis_register': 'false', 'national_coverage': 'true', 'groups': [], 'creator_user_id': 'ee40a870-8366-49a3-a1fb-a3478b86782b', 'source_catalog': 'https://data.overheid.nl', 'relationships_as_subject': [], 'license_title': 'CC-BY (4.0)', 'publisher': 'https://data.overheid.nl/organisatie/nipv', 'organization': {'description': '', 'created': '2020-01-20T16:05:16.027273', 'title': 'DONL Dataregister', 'name': 'data-overheid-nl', 'is_organization': True, 'state': 'active', 'image_url': '2024-10-15-081427.979173overheidnl.jpg', 'revision_id': '92b35652-13f7-4c9a-8aca-4e63b564282d', 'type': 'organization', 'id': 'b1abeb8a-fa82-4a28-9b92-2f6360976a78', 'approval_status': 'approved'}, 'name': 'brandweer-kerncijfers-personeel-vanaf-2021', 'isopen': False, 'url': 'https://nipv.nl/wp-content/uploads/2023/09/20230901-NIPV-Kerncijfers-Personeel-Toelichting-en-definities.pdf', 'changetype': ':updated', 'owner_org': 'b1abeb8a-fa82-4a28-9b92-2f6360976a78', 'modified': '2024-08-22T15:11:16', 'private': False, 'license_url': 'http://creativecommons.org/licenses/by/4.0/deed.nl', 'title': 'Brandweer, Kerncijfers Personeel vanaf 2021', 'revision_id': '5cb73e5f-43b7-46be-b758-7cb9ba83323b', 'identifier': 'https://data.overheid.nl/dataset/brandweer-kerncijfers-personeel-vanaf-2021', 'notes': \"Deze dataset bevat gegevens over personeel in repressieve dienst van de veiligheidsregio's. Binnen het dashboard wordt onder repressieve dienst verstaan personeel in de volgende functies uit het Besluit Personeel Veiligheidsregio's (BPV): Aspirant Manschap (in opleiding), Manschap, Bevelvoerder, Officier van Dienst, Hoofdofficier van Dienst en Commandant van Dienst en personeel in de specialismen Brandweerduiker en Adviseur Gevaarlijke Stoffen. \\r\\n\\r\\nDe vijfentwintig veiligheidsregio's leveren deze gegevens jaarlijks aan NIPV. De gegevens zijn beschikbaar vanaf 2021. De cijfers worden jaarlijks geüpdate in het eerste kwartaal.\"}, {'dataset_status': 'http://data.overheid.nl/status/beschikbaar', 'maintainer': None, 'referentie_data': 'false', 'contact_point_email': 'opendata@nipv.nl', 'authority': 'https://data.overheid.nl/organisatie/nipv', 'maintainer_email': None, 'num_tags': 0, 'metadata_language': 'http://publications.europa.eu/resource/authority/language/NLD', 'high_value': 'false', 'contact_point_name': 'Vakgroep Datawetenschappen', 'metadata_created': '2023-12-28T11:41:44.136349', 'metadata_modified': '2024-08-22T13:01:02.838215', 'author': None, 'author_email': None, 'tags': [], 'access_rights': 'http://publications.europa.eu/resource/authority/access-right/PUBLIC', 'id': '63015ac7-95ff-4803-9c06-09236a78c980', 'contact_point_website': 'https://www.nipv.nl', 'theme': ['http://standaarden.overheid.nl/owms/terms/Politie_brandweer_en_hulpdiensten'], 'relationships_as_object': [], 'license_id': 'http://creativecommons.org/licenses/by/4.0/deed.nl', 'type': 'dataset', 'resources': [{'cache_last_updated': None, 'package_id': '63015ac7-95ff-4803-9c06-09236a78c980', 'previewUrl': 'None', 'id': 'd94b005b-b09f-4a3e-b643-192b2cab6684', 'state': 'active', 'license_id': 'http://creativecommons.org/licenses/by/4.0/deed.nl', 'description': 'Online tool waarmee een gebruiker zelf tabellen, grafieken en kaartjes kan samenstellen.', 'format': 'http://publications.europa.eu/resource/authority/file-type/ATOM', 'mimetype_inner': None, 'distribution_type': 'https://data.overheid.nl/distributiontype/webservice', 'url_type': None, 'hasLegend': 'False', 'mimetype': None, 'cache_url': None, 'name': 'Databank', 'language': ['http://publications.europa.eu/resource/authority/language/NLD'], 'created': '2023-12-28T11:42:58.194029', 'resourceType': 'None', 'url': 'https://kerncijfers.nipv.nl/viewer/?cat_open=reactietijden', 'last_modified': None, 'position': 0, 'revision_id': 'ffc0a896-645c-4bce-ad12-ed475d653d66', 'resource_type': None, 'metadata_language': 'http://publications.europa.eu/resource/authority/language/NLD'}], 'num_resources': 1, 'state': 'active', 'language': ['http://publications.europa.eu/resource/authority/language/NLD'], 'basis_register': 'false', 'national_coverage': 'true', 'groups': [], 'creator_user_id': 'ee40a870-8366-49a3-a1fb-a3478b86782b', 'source_catalog': 'https://data.overheid.nl', 'relationships_as_subject': [], 'license_title': 'CC-BY (4.0)', 'publisher': 'https://data.overheid.nl/organisatie/nipv', 'organization': {'description': '', 'created': '2020-01-20T16:05:16.027273', 'title': 'DONL Dataregister', 'name': 'data-overheid-nl', 'is_organization': True, 'state': 'active', 'image_url': '2024-10-15-081427.979173overheidnl.jpg', 'revision_id': '92b35652-13f7-4c9a-8aca-4e63b564282d', 'type': 'organization', 'id': 'b1abeb8a-fa82-4a28-9b92-2f6360976a78', 'approval_status': 'approved'}, 'name': 'brandweer-kerncijfers-incidenten-reactietijden', 'isopen': False, 'url': 'https://nipv.nl/wp-content/uploads/2023/09/20230901-NIPV-Kerncijfers-Incidenten-Reactietijden-Toelichting-en-definities.pdf', 'changetype': ':updated', 'owner_org': 'b1abeb8a-fa82-4a28-9b92-2f6360976a78', 'modified': '2024-08-22T15:01:02', 'private': False, 'license_url': 'http://creativecommons.org/licenses/by/4.0/deed.nl', 'title': 'Brandweer, Kerncijfers Incidenten Reactietijden vanaf 2018', 'revision_id': '7aacf3fa-f1c7-4b6d-8471-8837bf0eb575', 'identifier': 'https://data.overheid.nl/dataset/brandweer-kerncijfers-incidenten-reactietijden', 'notes': 'Deze dataset bevat mediane reactietijden van brandweerincidenten, en het aantal brandweerincidenten waarover de reactietijden zijn berekend.\\r\\n\\r\\nData is afkomstig van het Geïntegreerd Meldkamer Systeem (GMS), een systeem dat in de meldkamers wordt gebruikt voor het beheren en coördineren van incidenten en het alarmeren van de hulpdiensten. \\r\\n\\r\\nDe gegevens zijn beschikbaar vanaf 2018.\\r\\n\\r\\nDe cijfers worden maandelijks geüpdatet. Elke derde donderdag van de maand komen de cijfers van de voorgaande maand beschikbaar.\\r\\n'}, {'dataset_status': 'http://data.overheid.nl/status/beschikbaar', 'maintainer': None, 'referentie_data': 'false', 'contact_point_email': 'opendata@nipv.nl', 'authority': 'https://data.overheid.nl/organisatie/nipv', 'maintainer_email': None, 'num_tags': 0, 'metadata_language': 'http://publications.europa.eu/resource/authority/language/NLD', 'high_value': 'false', 'contact_point_name': 'Vakgroep Datawetenschappen', 'metadata_created': '2023-12-28T11:52:19.763586', 'metadata_modified': '2024-03-18T14:17:16.938336', 'author': None, 'author_email': None, 'tags': [], 'access_rights': 'http://publications.europa.eu/resource/authority/access-right/PUBLIC', 'id': '97f434f7-e67c-4676-b086-09389d478ee6', 'contact_point_website': 'https://www.nipv.nl', 'theme': ['http://standaarden.overheid.nl/owms/terms/Politie_brandweer_en_hulpdiensten'], 'relationships_as_object': [], 'license_id': 'http://creativecommons.org/licenses/by/4.0/deed.nl', 'type': 'dataset', 'resources': [{'cache_last_updated': None, 'package_id': '97f434f7-e67c-4676-b086-09389d478ee6', 'previewUrl': 'None', 'id': 'aca32f1f-5a57-45f4-8ded-a831ab9acc70', 'state': 'active', 'license_id': 'http://creativecommons.org/licenses/by/4.0/deed.nl', 'description': 'Online tool waarmee een gebruiker zelf tabellen, grafieken en kaartjes kan samenstellen.', 'format': 'http://publications.europa.eu/resource/authority/file-type/ATOM', 'mimetype_inner': None, 'distribution_type': 'https://data.overheid.nl/distributiontype/webservice', 'url_type': None, 'hasLegend': 'False', 'mimetype': None, 'cache_url': None, 'name': 'Databank', 'language': ['http://publications.europa.eu/resource/authority/language/NLD'], 'created': '2023-12-28T11:57:26.918976', 'resourceType': 'None', 'url': 'https://kerncijfers.nipv.nl/viewer/?cat_open=nieuwjaarsincidenten', 'last_modified': None, 'position': 0, 'revision_id': 'e4b0491d-3619-4469-a163-218ecaf9b284', 'resource_type': None, 'metadata_language': 'http://publications.europa.eu/resource/authority/language/NLD'}], 'num_resources': 1, 'state': 'active', 'language': ['http://publications.europa.eu/resource/authority/language/NLD'], 'basis_register': 'false', 'national_coverage': 'true', 'groups': [], 'creator_user_id': 'ee40a870-8366-49a3-a1fb-a3478b86782b', 'source_catalog': 'https://data.overheid.nl', 'relationships_as_subject': [], 'license_title': 'CC-BY (4.0)', 'publisher': 'https://data.overheid.nl/organisatie/nipv', 'organization': {'description': '', 'created': '2020-01-20T16:05:16.027273', 'title': 'DONL Dataregister', 'name': 'data-overheid-nl', 'is_organization': True, 'state': 'active', 'image_url': '2024-10-15-081427.979173overheidnl.jpg', 'revision_id': '92b35652-13f7-4c9a-8aca-4e63b564282d', 'type': 'organization', 'id': 'b1abeb8a-fa82-4a28-9b92-2f6360976a78', 'approval_status': 'approved'}, 'name': 'brandweer-kerncijfers-nieuwjaarsincidenten', 'isopen': False, 'url': 'https://nipv.nl/wp-content/uploads/2023/09/20230901-NIPV-Kerncijfers-Nieuwjaarsincidenten-Toelichting-en-definities.pdf', 'changetype': ':updated', 'owner_org': 'b1abeb8a-fa82-4a28-9b92-2f6360976a78', 'modified': '2024-03-18T15:17:16', 'private': False, 'license_url': 'http://creativecommons.org/licenses/by/4.0/deed.nl', 'title': 'Brandweer, Kerncijfers Nieuwjaarsincidenten vanaf 2019', 'revision_id': 'ac37a3fe-3610-4402-80ea-4f6789316914', 'identifier': 'https://data.overheid.nl/dataset/brandweer-kerncijfers-nieuwjaarsincidenten', 'notes': 'Deze dataset bevat aantallen en typeringen van brandweerincidenten tijdens de jaarwisseling.\\r\\n\\r\\nData is afkomstig van het Geïntegreerd Meldkamer Systeem (GMS), een systeem dat in de meldkamers wordt gebruikt voor het beheren en coördineren van incidenten en het alarmeren van de hulpdiensten. \\r\\n\\r\\nDe gegevens zijn beschikbaar vanaf 2019.\\r\\n\\r\\nDe cijfers worden jaarlijks geüpdatet. Jaarlijks op 1 januari komen de voorlopige cijfers online. De cijfers worden definitief gemaakt het einde van het eerste kwartaal. \\r\\n\\r\\n\\r\\n'}, {'dataset_status': 'http://data.overheid.nl/status/beschikbaar', 'maintainer': None, 'referentie_data': 'false', 'contact_point_email': 'opendata@nipv.nl', 'authority': 'https://data.overheid.nl/organisatie/nipv', 'maintainer_email': None, 'num_tags': 0, 'metadata_language': 'http://publications.europa.eu/resource/authority/language/NLD', 'high_value': 'false', 'contact_point_name': 'Vakgroep Datawetenschappen', 'metadata_created': '2023-12-28T11:15:36.444906', 'metadata_modified': '2024-03-18T14:16:55.273486', 'author': None, 'author_email': None, 'tags': [], 'access_rights': 'http://publications.europa.eu/resource/authority/access-right/PUBLIC', 'id': '1ed0e2ff-fd90-4f1b-9c4b-8830fab6569d', 'contact_point_website': 'https://www.nipv.nl', 'theme': ['http://standaarden.overheid.nl/owms/terms/Politie_brandweer_en_hulpdiensten'], 'relationships_as_object': [], 'license_id': 'http://creativecommons.org/licenses/by/4.0/deed.nl', 'type': 'dataset', 'resources': [{'cache_last_updated': None, 'package_id': '1ed0e2ff-fd90-4f1b-9c4b-8830fab6569d', 'previewUrl': 'None', 'id': '051503b9-63e4-4edc-81e4-0926e2f9b6b3', 'state': 'active', 'license_id': 'http://creativecommons.org/licenses/by/4.0/deed.nl', 'description': 'Online tool waarmee een gebruiker zelf tabellen, grafieken en kaartjes kan samenstellen.', 'format': 'http://publications.europa.eu/resource/authority/file-type/ATOM', 'mimetype_inner': None, 'distribution_type': 'https://data.overheid.nl/distributiontype/webservice', 'url_type': None, 'hasLegend': 'False', 'mimetype': None, 'cache_url': None, 'name': 'Databank', 'language': ['http://publications.europa.eu/resource/authority/language/NLD'], 'created': '2023-12-28T11:28:11.228364', 'resourceType': 'None', 'url': 'https://kerncijfers.nipv.nl/viewer/?cat_open=incidenten', 'last_modified': None, 'position': 0, 'revision_id': 'f4d4cf02-d649-4d4a-bc63-faa70a3a0242', 'resource_type': None, 'metadata_language': 'http://publications.europa.eu/resource/authority/language/NLD'}], 'num_resources': 1, 'state': 'active', 'language': ['http://publications.europa.eu/resource/authority/language/NLD'], 'basis_register': 'false', 'national_coverage': 'true', 'groups': [], 'creator_user_id': 'ee40a870-8366-49a3-a1fb-a3478b86782b', 'source_catalog': 'https://data.overheid.nl', 'relationships_as_subject': [], 'license_title': 'CC-BY (4.0)', 'publisher': 'https://data.overheid.nl/organisatie/nipv', 'organization': {'description': '', 'created': '2020-01-20T16:05:16.027273', 'title': 'DONL Dataregister', 'name': 'data-overheid-nl', 'is_organization': True, 'state': 'active', 'image_url': '2024-10-15-081427.979173overheidnl.jpg', 'revision_id': '92b35652-13f7-4c9a-8aca-4e63b564282d', 'type': 'organization', 'id': 'b1abeb8a-fa82-4a28-9b92-2f6360976a78', 'approval_status': 'approved'}, 'name': 'brandweer-kerncijfers-incidenten', 'isopen': False, 'url': 'https://nipv.nl/wp-content/uploads/2023/09/20230901-NIPV-Kerncijfers-Incidenten-Toelichting-en-definities.pdf', 'changetype': ':updated', 'owner_org': 'b1abeb8a-fa82-4a28-9b92-2f6360976a78', 'modified': '2024-03-18T15:16:55', 'private': False, 'license_url': 'http://creativecommons.org/licenses/by/4.0/deed.nl', 'title': 'Brandweer, Kerncijfers Incidenten vanaf 2018', 'revision_id': '44ad6324-38ed-4dd1-b309-29aedd38c789', 'identifier': 'https://data.overheid.nl/dataset/brandweer-kerncijfers-incidenten', 'notes': 'Deze dataset bevat aantallen en typeringen van brandweerincidenten.\\r\\n\\r\\nData is afkomstig van het Geïntegreerd Meldkamer Systeem (GMS), een systeem dat in de meldkamers wordt gebruikt voor het beheren en coördineren van incidenten en het alarmeren van de hulpdiensten. \\r\\n\\r\\nDe gegevens zijn beschikbaar vanaf 2018.\\r\\n\\r\\nDe cijfers worden maandelijks geüpdatet. Elke derde donderdag van de maand komen de cijfers van de voorgaande maand beschikbaar.'}, {'dataset_status': 'http://data.overheid.nl/status/beschikbaar', 'maintainer': None, 'referentie_data': 'false', 'contact_point_email': 'infoservice@cbs.nl', 'authority': 'http://standaarden.overheid.nl/owms/terms/Centraal_Bureau_voor_de_Statistiek', 'maintainer_email': None, 'num_tags': 0, 'frequency': 'http://publications.europa.eu/resource/authority/frequency/NEVER', 'metadata_language': 'http://publications.europa.eu/resource/authority/language/NLD', 'high_value': 'false', 'contact_point_name': 'Centraal Bureau voor de Statistiek', 'metadata_created': '2020-04-02T15:40:55.288566', 'metadata_modified': '2024-07-24T06:21:10.730275', 'author': None, 'author_email': None, 'access_rights': 'http://publications.europa.eu/resource/authority/access-right/PUBLIC', 'id': '7181f36d-ad35-4bc2-865a-b5b42995fbce', 'theme': ['http://standaarden.overheid.nl/owms/terms/Bestuur'], 'state': 'active', 'relationships_as_object': [], 'license_id': 'http://creativecommons.org/licenses/by/4.0/deed.nl', 'type': 'dataset', 'resources': [{'cache_last_updated': None, 'package_id': '7181f36d-ad35-4bc2-865a-b5b42995fbce', 'metadata_language': 'http://publications.europa.eu/resource/authority/language/NLD', 'id': 'e54d6e82-cf27-411e-8712-ea28b0ecefa7', 'download_url': ['https://opendata.cbs.nl/ODataApi/OData/83123NED'], 'state': 'active', 'license_id': 'http://creativecommons.org/licenses/by/4.0/deed.nl', 'description': 'Starttijd, Alarmtijd, Uitruktijd, Rijtijd, Responstijd,brandweer, branden\\nprovincie, veiligheidsregio', 'format': 'http://publications.europa.eu/resource/authority/file-type/JSON', 'mimetype_inner': None, 'distribution_type': 'https://data.overheid.nl/distributiontype/webservice', 'url_type': None, 'mimetype': 'https://www.iana.org/assignments/media-types/application/json', 'cache_url': None, 'name': 'API', 'language': ['http://publications.europa.eu/resource/authority/language/NLD'], 'created': '2024-07-24T06:21:11.365981', 'url': 'https://opendata.cbs.nl/statline/#/CBS/nl/dataset/83123NED/table', 'last_modified': None, 'position': 0, 'revision_id': 'f6cdfce8-c72a-414f-b06d-4c308122692c', 'resource_type': None}, {'cache_last_updated': None, 'package_id': '7181f36d-ad35-4bc2-865a-b5b42995fbce', 'metadata_language': 'http://publications.europa.eu/resource/authority/language/NLD', 'id': '123a7c2f-185e-4266-a7a4-7ece7d417dfe', 'download_url': ['https://opendata.cbs.nl/ODataFeed/OData/83123NED'], 'state': 'active', 'license_id': 'http://creativecommons.org/licenses/by/4.0/deed.nl', 'description': 'Starttijd, Alarmtijd, Uitruktijd, Rijtijd, Responstijd,brandweer, branden\\nprovincie, veiligheidsregio', 'format': 'http://publications.europa.eu/resource/authority/file-type/ATOM', 'mimetype_inner': None, 'distribution_type': 'https://data.overheid.nl/distributiontype/webservice', 'url_type': None, 'mimetype': 'https://www.iana.org/assignments/media-types/application/atom+xml', 'cache_url': None, 'name': 'Feed', 'language': ['http://publications.europa.eu/resource/authority/language/NLD'], 'created': '2024-07-24T06:21:11.365989', 'url': 'https://opendata.cbs.nl/statline/#/CBS/nl/dataset/83123NED/table', 'last_modified': None, 'position': 1, 'revision_id': 'f6cdfce8-c72a-414f-b06d-4c308122692c', 'resource_type': None}], 'num_resources': 2, 'tags': [], 'language': ['http://publications.europa.eu/resource/authority/language/NLD'], 'basis_register': 'false', 'national_coverage': 'true', 'groups': [], 'creator_user_id': 'b8326ff3-6262-4e5c-99e3-342c84b8f4e8', 'source_catalog': 'https://opendata.cbs.nl/ODataCatalog/', 'relationships_as_subject': [], 'license_title': 'CC-BY (4.0)', 'publisher': 'http://standaarden.overheid.nl/owms/terms/Centraal_Bureau_voor_de_Statistiek', 'organization': {'description': '', 'created': '2020-01-20T16:04:11.498702', 'title': 'CBS OpenData', 'name': 'centraal-bureau-voor-de-statistiek', 'is_organization': True, 'state': 'active', 'image_url': '2024-10-15-081333.251155cbs.png', 'revision_id': 'cea149ce-64ad-4121-adfb-a8ae140b44c8', 'type': 'organization', 'id': 'd09cc50d-ca70-44ee-9519-9e192b9dbc07', 'approval_status': 'approved'}, 'name': '998-branden--reactietijden-van-de-brandweer--regio', 'isopen': False, 'url': 'https://opendata.cbs.nl/statline/portal.html?_la=nl&_catalog=CBS&tableId=83123NED', 'changetype': ':updated', 'owner_org': 'd09cc50d-ca70-44ee-9519-9e192b9dbc07', 'modified': '2020-03-20T02:00:00', 'private': False, 'license_url': 'http://creativecommons.org/licenses/by/4.0/deed.nl', 'title': 'Branden; reactietijden van de brandweer, regio 2013-2019', 'revision_id': '2d5fb843-0f21-43d9-ab26-77340426b3e9', 'identifier': 'https://opendata.cbs.nl/ODataApi/OData/83123NED', 'notes': 'Deze tabel bevat cijfers over de gemiddelde reactietijden van de brandweer bij brandincidenten. De reactietijden worden berekend op basis van alle brandincidenten in de veiligheidsregio, waarbij sprake is van prioriteit 1 en waarbij de brandweer ter plaatse is gekomen. Daarnaast moeten alle statustijden van een incident aanwezig zijn in het GMS om mee te tellen in de berekening. Loos alarm, geconstateerd na ter plaatse te zijn gekomen, is inbegrepen. Ook buitenbranden en dergelijke niet-objectgebonden branden worden meegenomen. De tijden in deze tabel zijn daarom niet direct te vergelijken met het wettelijk begrip ‘opkomsttijd’, welke de wettelijke normtijden zijn voor het ter plaatse komen van de brandweer bij specifieke objecttypen.  \\n\\nGegevens beschikbaar vanaf het jaar 2013.\\n\\nStatus van de cijfers: \\nDe cijfers over 2013 t/m 2018 zijn definitief. De cijfers over 2019 zijn voorlopig.\\n\\nWijzigingen per 25 februari 2021:\\nGeen, deze tabel is stopgezet. Dit als gevolg van het wegvallen van de financiering voor deze statistiek. \\n\\nWanneer komen er nieuwe cijfers?\\nNiet meer van toepassing.'}, {'dataset_status': 'http://data.overheid.nl/status/beschikbaar', 'maintainer': None, 'referentie_data': 'false', 'contact_point_email': 'infoservice@cbs.nl', 'authority': 'http://standaarden.overheid.nl/owms/terms/Centraal_Bureau_voor_de_Statistiek', 'maintainer_email': None, 'num_tags': 0, 'frequency': 'http://publications.europa.eu/resource/authority/frequency/NEVER', 'metadata_language': 'http://publications.europa.eu/resource/authority/language/NLD', 'high_value': 'false', 'contact_point_name': 'Centraal Bureau voor de Statistiek', 'metadata_created': '2020-04-02T16:00:42.772013', 'metadata_modified': '2024-07-24T06:21:18.950602', 'author': None, 'author_email': None, 'access_rights': 'http://publications.europa.eu/resource/authority/access-right/PUBLIC', 'id': '9b2c5b94-b83f-4719-b555-f631e42f5acb', 'theme': ['http://standaarden.overheid.nl/owms/terms/Bestuur'], 'state': 'active', 'relationships_as_object': [], 'license_id': 'http://creativecommons.org/licenses/by/4.0/deed.nl', 'type': 'dataset', 'resources': [{'cache_last_updated': None, 'package_id': '9b2c5b94-b83f-4719-b555-f631e42f5acb', 'metadata_language': 'http://publications.europa.eu/resource/authority/language/NLD', 'id': '82cb86f4-f192-4aee-837f-0483394a6a94', 'download_url': ['https://opendata.cbs.nl/ODataApi/OData/83408NED'], 'state': 'active', 'license_id': 'http://creativecommons.org/licenses/by/4.0/deed.nl', 'description': 'Brandweer, uitgaven, uitgaven per inwoner\\nVeiligheidsregio, provincie', 'format': 'http://publications.europa.eu/resource/authority/file-type/JSON', 'mimetype_inner': None, 'distribution_type': 'https://data.overheid.nl/distributiontype/webservice', 'url_type': None, 'mimetype': 'https://www.iana.org/assignments/media-types/application/json', 'cache_url': None, 'name': 'API', 'language': ['http://publications.europa.eu/resource/authority/language/NLD'], 'created': '2024-07-24T06:21:20.189914', 'url': 'https://opendata.cbs.nl/statline/#/CBS/nl/dataset/83408NED/table', 'last_modified': None, 'position': 0, 'revision_id': '6df7f5f5-3e27-4ea8-b00e-46fb14599555', 'resource_type': None}, {'cache_last_updated': None, 'package_id': '9b2c5b94-b83f-4719-b555-f631e42f5acb', 'metadata_language': 'http://publications.europa.eu/resource/authority/language/NLD', 'id': 'bc5f5384-4148-4a75-8dba-a6115856f14d', 'download_url': ['https://opendata.cbs.nl/ODataFeed/OData/83408NED'], 'state': 'active', 'license_id': 'http://creativecommons.org/licenses/by/4.0/deed.nl', 'description': 'Brandweer, uitgaven, uitgaven per inwoner\\nVeiligheidsregio, provincie', 'format': 'http://publications.europa.eu/resource/authority/file-type/ATOM', 'mimetype_inner': None, 'distribution_type': 'https://data.overheid.nl/distributiontype/webservice', 'url_type': None, 'mimetype': 'https://www.iana.org/assignments/media-types/application/atom+xml', 'cache_url': None, 'name': 'Feed', 'language': ['http://publications.europa.eu/resource/authority/language/NLD'], 'created': '2024-07-24T06:21:20.189922', 'url': 'https://opendata.cbs.nl/statline/#/CBS/nl/dataset/83408NED/table', 'last_modified': None, 'position': 1, 'revision_id': '6df7f5f5-3e27-4ea8-b00e-46fb14599555', 'resource_type': None}], 'num_resources': 2, 'tags': [], 'language': ['http://publications.europa.eu/resource/authority/language/NLD'], 'basis_register': 'false', 'national_coverage': 'true', 'groups': [], 'creator_user_id': 'b8326ff3-6262-4e5c-99e3-342c84b8f4e8', 'source_catalog': 'https://opendata.cbs.nl/ODataCatalog/', 'relationships_as_subject': [], 'license_title': 'CC-BY (4.0)', 'publisher': 'http://standaarden.overheid.nl/owms/terms/Centraal_Bureau_voor_de_Statistiek', 'organization': {'description': '', 'created': '2020-01-20T16:04:11.498702', 'title': 'CBS OpenData', 'name': 'centraal-bureau-voor-de-statistiek', 'is_organization': True, 'state': 'active', 'image_url': '2024-10-15-081333.251155cbs.png', 'revision_id': 'cea149ce-64ad-4121-adfb-a8ae140b44c8', 'type': 'organization', 'id': 'd09cc50d-ca70-44ee-9519-9e192b9dbc07', 'approval_status': 'approved'}, 'name': '3349-brandweer--gemeentelijke-uitgaven--regio-2005-2016', 'isopen': False, 'url': 'https://opendata.cbs.nl/statline/portal.html?_la=nl&_catalog=CBS&tableId=83408NED', 'changetype': ':updated', 'owner_org': 'd09cc50d-ca70-44ee-9519-9e192b9dbc07', 'modified': '2017-01-26T02:00:00', 'private': False, 'license_url': 'http://creativecommons.org/licenses/by/4.0/deed.nl', 'title': 'Brandweer; gemeentelijke uitgaven, regio 2005-2016', 'revision_id': '8975eb0b-ced9-46e7-9c35-1d9e077bb9f5', 'identifier': 'https://opendata.cbs.nl/ODataApi/OData/83408NED', 'notes': 'Deze tabel bevat cijfers over de netto-uitgaven van gemeenten (totaal en per inwoner) aan brandweer en rampenbestrijding in hun veiligheidsregio. De cijfers kunnen worden uitgesplitst naar regio (landsdeel, provincie en veiligheidsregio).\\n\\nGegevens beschikbaar van 2005 tot en met 2016. \\n\\nStatus van de cijfers: \\nDe cijfers over de jaren 2005 tot en met 2015 zijn definitief. \\nDe cijfers over 2016 komen uit de begroting en zijn voorlopig. Aangezien deze tabel is stopgezet, worden de gegevens niet meer definitief gemaakt.\\n\\nWijzigingen per 31 maart 2017:\\nGeen, deze tabel is stopgezet.\\n\\nDoor het wegvallen van financiering komen voor deze statistiek geen nieuwe gegevens meer beschikbaar. Voor meer informatie zie de link in paragraaf 3.'}, {'dataset_status': 'http://data.overheid.nl/status/beschikbaar', 'maintainer': None, 'referentie_data': 'false', 'contact_point_email': 'infoservice@cbs.nl', 'authority': 'http://standaarden.overheid.nl/owms/terms/Centraal_Bureau_voor_de_Statistiek', 'maintainer_email': None, 'num_tags': 0, 'frequency': 'http://publications.europa.eu/resource/authority/frequency/NEVER', 'metadata_language': 'http://publications.europa.eu/resource/authority/language/NLD', 'high_value': 'false', 'contact_point_name': 'Centraal Bureau voor de Statistiek', 'metadata_created': '2020-04-02T15:40:56.196195', 'metadata_modified': '2024-07-24T06:21:03.882505', 'author': None, 'author_email': None, 'access_rights': 'http://publications.europa.eu/resource/authority/access-right/PUBLIC', 'id': 'd83930fe-cc16-4ef7-84f3-cf98042014fa', 'theme': ['http://standaarden.overheid.nl/owms/terms/Bestuur'], 'state': 'active', 'relationships_as_object': [], 'license_id': 'http://creativecommons.org/licenses/by/4.0/deed.nl', 'type': 'dataset', 'resources': [{'cache_last_updated': None, 'package_id': 'd83930fe-cc16-4ef7-84f3-cf98042014fa', 'metadata_language': 'http://publications.europa.eu/resource/authority/language/NLD', 'id': '5c9ce152-964c-4f9e-83e4-f41f3d2fc48d', 'download_url': ['https://opendata.cbs.nl/ODataApi/OData/83122NED'], 'state': 'active', 'license_id': 'http://creativecommons.org/licenses/by/4.0/deed.nl', 'description': 'Branden, Hulpverlening, Brandweer, alarming, uitgerukt, ter plaatse\\nVeiligheidsregio, provincie', 'format': 'http://publications.europa.eu/resource/authority/file-type/JSON', 'mimetype_inner': None, 'distribution_type': 'https://data.overheid.nl/distributiontype/webservice', 'url_type': None, 'mimetype': 'https://www.iana.org/assignments/media-types/application/json', 'cache_url': None, 'name': 'API', 'language': ['http://publications.europa.eu/resource/authority/language/NLD'], 'created': '2024-07-24T06:21:04.555198', 'url': 'https://opendata.cbs.nl/statline/#/CBS/nl/dataset/83122NED/table', 'last_modified': None, 'position': 0, 'revision_id': '2b701581-9def-4a16-a526-d9aa14c4d982', 'resource_type': None}, {'cache_last_updated': None, 'package_id': 'd83930fe-cc16-4ef7-84f3-cf98042014fa', 'metadata_language': 'http://publications.europa.eu/resource/authority/language/NLD', 'id': '69cdece0-4026-4870-9ce2-0005eef26fb7', 'download_url': ['https://opendata.cbs.nl/ODataFeed/OData/83122NED'], 'state': 'active', 'license_id': 'http://creativecommons.org/licenses/by/4.0/deed.nl', 'description': 'Branden, Hulpverlening, Brandweer, alarming, uitgerukt, ter plaatse\\nVeiligheidsregio, provincie', 'format': 'http://publications.europa.eu/resource/authority/file-type/ATOM', 'mimetype_inner': None, 'distribution_type': 'https://data.overheid.nl/distributiontype/webservice', 'url_type': None, 'mimetype': 'https://www.iana.org/assignments/media-types/application/atom+xml', 'cache_url': None, 'name': 'Feed', 'language': ['http://publications.europa.eu/resource/authority/language/NLD'], 'created': '2024-07-24T06:21:04.555205', 'url': 'https://opendata.cbs.nl/statline/#/CBS/nl/dataset/83122NED/table', 'last_modified': None, 'position': 1, 'revision_id': '2b701581-9def-4a16-a526-d9aa14c4d982', 'resource_type': None}], 'num_resources': 2, 'tags': [], 'language': ['http://publications.europa.eu/resource/authority/language/NLD'], 'basis_register': 'false', 'national_coverage': 'true', 'groups': [], 'creator_user_id': 'b8326ff3-6262-4e5c-99e3-342c84b8f4e8', 'source_catalog': 'https://opendata.cbs.nl/ODataCatalog/', 'relationships_as_subject': [], 'license_title': 'CC-BY (4.0)', 'publisher': 'http://standaarden.overheid.nl/owms/terms/Centraal_Bureau_voor_de_Statistiek', 'organization': {'description': '', 'created': '2020-01-20T16:04:11.498702', 'title': 'CBS OpenData', 'name': 'centraal-bureau-voor-de-statistiek', 'is_organization': True, 'state': 'active', 'image_url': '2024-10-15-081333.251155cbs.png', 'revision_id': 'cea149ce-64ad-4121-adfb-a8ae140b44c8', 'type': 'organization', 'id': 'd09cc50d-ca70-44ee-9519-9e192b9dbc07', 'approval_status': 'approved'}, 'name': '1000-branden-en-hulpverleningen--alarmering-van-de-brandweer--regio', 'isopen': False, 'url': 'https://opendata.cbs.nl/statline/portal.html?_la=nl&_catalog=CBS&tableId=83122NED', 'changetype': ':updated', 'owner_org': 'd09cc50d-ca70-44ee-9519-9e192b9dbc07', 'modified': '2020-03-23T02:00:00', 'private': False, 'license_url': 'http://creativecommons.org/licenses/by/4.0/deed.nl', 'title': 'Branden en hulpverleningen; alarmering van de brandweer, regio 2013-2019', 'revision_id': '286cb8a6-a6ec-492c-91a7-a1ab8db765ba', 'identifier': 'https://opendata.cbs.nl/ODataApi/OData/83122NED', 'notes': 'Deze tabel bevat cijfers over de aantallen alarmeringen die binnenkomen bij de brandweer, dit zijn de incidenten waarvoor een inzet van een brandweereenheid noodzakelijk wordt geacht door de meldkamer. De alarmeringen worden uitgesplitst naar branden en hulpverlening. De branden worden uitgesplitst naar automatisch en telefonisch gemeld.  In alle categorieën toont de tabel naast de aantallen alarmeringen, ook het aantal uitrukken uit de brandweerkazerne en het aantal keer dat een brandweereenheid ter plaatse is gekomen. Loos alarm is inbegrepen in deze cijfers.\\n\\nGegevens beschikbaar vanaf 2013.\\n\\nStatus van de cijfers: \\nDe cijfers over 2013 t/m 2018 zijn definitief. De cijfers over 2019 zijn voorlopig.\\n\\nWijzigingen per 25 februari 2021: \\nGeen, deze tabel is stopgezet. Dit als gevolg van het wegvallen van de financiering voor deze statistiek. \\n\\nWanneer komen er nieuwe cijfers?\\nNiet meer van toepassing.'}], 'search_facets': {}}}\n"
     ]
    }
   ],
   "source": [
    "import requests\n",
    "\n",
    "def search_datasets(query, start=0, rows=10):\n",
    "    base_url = \"https://data.overheid.nl/data/api/3/action/package_search\"\n",
    "    params = {\n",
    "        \"q\": query,\n",
    "        \"start\": start,\n",
    "        \"rows\": rows\n",
    "    }\n",
    "    response = requests.get(base_url, params=params)\n",
    "    \n",
    "    if response.status_code == 200:\n",
    "        data = response.json()\n",
    "        return data\n",
    "    else:\n",
    "        print(f\"API request failed with status code: {response.status_code}\")\n",
    "        return None\n",
    "\n",
    "query_term = \"brandweer\"\n",
    "results = search_datasets(query_term)\n",
    "print(results)\n"
   ]
  },
  {
   "cell_type": "code",
   "execution_count": 7,
   "metadata": {},
   "outputs": [
    {
     "data": {
      "text/plain": [
       "{'success': True,\n",
       " 'result': {'count': 4163,\n",
       "  'results': [{'id': '7188',\n",
       "    'name': 'woz-waarde-eigen-woning',\n",
       "    'title': 'WOZ waarde eigen woning',\n",
       "    'uri': 'https://data.overheid.nl/community/dataverzoeken/woz-waarde-eigen-woning',\n",
       "    'description': 'WOZ waarde rond 2007 van Stationsweg 6  7395 SB in Teuge',\n",
       "    'theme': ['http://standaarden.overheid.nl/owms/terms/Huisvesting_(thema)'],\n",
       "    'created': '2025-02-13T16:04:25Z',\n",
       "    'modified': '2025-02-13T17:40:27Z'},\n",
       "   {'id': '7180',\n",
       "    'name': 'dataverzoek-dtenv',\n",
       "    'title': 'Dataverzoek DTenV',\n",
       "    'uri': 'https://data.overheid.nl/community/dataverzoeken/dataverzoek-dtenv',\n",
       "    'description': \"Ik ben opzoek naar een overzicht waarin per herkomstland wordt aangegeven hoeveel mensen onder de volgende drie categorieen: 'gedwongen vertrek uit Nederland' 'Zelfstandig vertrek uit Nederland' en 'Zelfstandig vertrek zonder toezicht'. Ik zoek deze data voor ieder jaar vanaf 2008 (indien mogelijk) en voor alle herkomstlanden. \",\n",
       "    'theme': ['http://standaarden.overheid.nl/owms/terms/Migratie_en_integratie'],\n",
       "    'created': '2025-02-10T15:10:53Z',\n",
       "    'modified': '2025-02-12T13:56:06Z'},\n",
       "   {'id': '7184',\n",
       "    'name': 'luchtkwaliteit-den-haag',\n",
       "    'title': 'Luchtkwaliteit Den Haag',\n",
       "    'uri': 'https://data.overheid.nl/community/dataverzoeken/luchtkwaliteit-den-haag',\n",
       "    'description': 'Luchtkwaliteit Den Haag.\\r\\nDeze dataset bestaat op de website en is beschikbaar voor download, maar bevat slechts 30 meetpunten. Een college downloadde deze dataset een 2/3-tal jaren geleden. De dataset telde toen ongeveer 120 meetpunten. Ik zou graag deze uitgebreidere dataset gebruiken in mijn lessen (zie verder).',\n",
       "    'theme': ['http://standaarden.overheid.nl/owms/terms/Lucht'],\n",
       "    'created': '2025-02-12T11:23:35Z',\n",
       "    'modified': '2025-02-12T12:46:32Z'},\n",
       "   {'id': '7183',\n",
       "    'name': 'tvm-van-nijenrodeweg-759-t-m-792',\n",
       "    'title': 'TVM van Nijenrodeweg 759 t/m 792',\n",
       "    'uri': 'https://data.overheid.nl/community/dataverzoeken/tvm-van-nijenrodeweg-759-t-m-792',\n",
       "    'description': 'info over deze tvm en de reden',\n",
       "    'theme': ['http://standaarden.overheid.nl/owms/terms/Weg_(thema)'],\n",
       "    'created': '2025-02-11T10:25:36Z',\n",
       "    'modified': '2025-02-12T12:46:29Z'},\n",
       "   {'id': '7181',\n",
       "    'name': 'aantal-huizen-per-straat-in-grashoek',\n",
       "    'title': 'Aantal huizen per straat in Grashoek',\n",
       "    'uri': 'https://data.overheid.nl/community/dataverzoeken/aantal-huizen-per-straat-in-grashoek',\n",
       "    'description': 'Aantal huizen per straat on Grashoek',\n",
       "    'theme': ['http://standaarden.overheid.nl/owms/terms/Gemeenten'],\n",
       "    'created': '2025-02-10T21:27:41Z',\n",
       "    'modified': '2025-02-12T12:46:25Z'},\n",
       "   {'id': '7182',\n",
       "    'name': 'basisbestand-adressen',\n",
       "    'title': 'Basisbestand adressen',\n",
       "    'uri': 'https://data.overheid.nl/community/dataverzoeken/basisbestand-adressen',\n",
       "    'description': 'Ik ben op zoek naar een basisbestand met daarin alle adressen zoals in BAG geregistreerd. Gegevens die ik nodig heb zijn: postcode6, huisnummer, huisnummertoevoeging, straatnaam, woonplaats, gemeentecode, gemeente, provinciecode, provincie en optioneel de coördinaten.  Dit alles in één bestand met elk adres als nieuw record inclusief historie met een start- en einddatum. Hierbij rekening houdend met gemeentelijke herindelingen. Bij voorkeur wordt het bestand periodiek geupdate in lijn met de updates van de BAG data (BAG Extract)',\n",
       "    'theme': ['http://standaarden.overheid.nl/owms/terms/Onderwijs_en_wetenschap'],\n",
       "    'created': '2025-02-11T08:51:45Z',\n",
       "    'modified': '2025-02-11T17:04:08Z'},\n",
       "   {'id': '7177',\n",
       "    'name': 'nie-wiem',\n",
       "    'title': 'Nie wiem ',\n",
       "    'uri': 'https://data.overheid.nl/community/dataverzoeken/nie-wiem',\n",
       "    'description': 'Natuurbeheerplan Zeeland Ontwerp 2023',\n",
       "    'theme': ['http://standaarden.overheid.nl/owms/terms/Koninklijk_Huis_(thema)'],\n",
       "    'created': '2025-02-09T00:10:47Z',\n",
       "    'modified': '2025-02-10T11:15:02Z'},\n",
       "   {'id': '7176',\n",
       "    'name': 'typegoedkeuring-krone-n-a-aanhanger',\n",
       "    'title': 'Typegoedkeuring Krone N/A aanhanger',\n",
       "    'uri': 'https://data.overheid.nl/community/dataverzoeken/typegoedkeuring-krone-n-a-aanhanger',\n",
       "    'description': 'Typegoedkeuringen van voertuigen  – RDW\\r\\n\\r\\nHet gaat om een typegoedkeuring van de aanhangers gefabriceerd door Krone van het type N/A. met een afneembare bovenbouw.\\r\\nGefabriceerd tussen 2003 en 2020.\\r\\nOnze Krone N/A aanhanger is op 24-02-2017 voor het eerst toegelaten',\n",
       "    'theme': ['http://standaarden.overheid.nl/owms/terms/Ondernemen'],\n",
       "    'created': '2025-02-07T21:37:29Z',\n",
       "    'modified': '2025-02-10T11:08:03Z'},\n",
       "   {'id': '7175',\n",
       "    'name': 'verzoek-data-van-aanvragers-innovatiekrediet',\n",
       "    'title': 'Verzoek data van aanvragers Innovatiekrediet',\n",
       "    'uri': 'https://data.overheid.nl/community/dataverzoeken/verzoek-data-van-aanvragers-innovatiekrediet',\n",
       "    'description': 'Beste Meneer/ Mevrouw,\\r\\n\\r\\nVoor mijn master scriptie Finance & Investments aan de Erasmus Universiteit Rotterdam ben ik opzoek naar gegevens van de aanvragers van Innovatiekrediet van de start in 2008 tot nu. Ik ben voornamelijk opzoek naar een lijst met de namen van de aanvragers. Welke aanvragers hebben krediet ontvangen en welke niet. Met deze data ga ik onderzoek doen naar het effect van overheidsfinanciering op innovatie in bedrijven. Hierbij ga ik bedrijven vergelijken welke financiering hebben ontvangen van de overheid, welke financiering hebben ontvangen van private partijen en bedrijven welke geen externe financiering hebben ontvangen. Voor zover mij bekend is, is RVO en het CBS in bezit van deze data. Zij brengen eens in de paar jaar een rapport uit met informatie over het innovatiekrediet (https://www.rvo.nl/subsidies-financiering/innovatiekrediet/infographic-2022 ; https://open.overheid.nl/documenten/1454b738-d252-4ab2-9fda-12346c3fae5b/file).\\r\\n\\r\\nIk hoop dat u me hierbij kan helpen.\\r\\n\\r\\nMet vriendelijke groet,\\r\\nDjustin van Lierop\\r\\nMsc Finance & Investments\\r\\nRotterdam School of Management',\n",
       "    'theme': ['http://standaarden.overheid.nl/owms/terms/Ondernemen'],\n",
       "    'created': '2025-02-07T14:08:10Z',\n",
       "    'modified': '2025-02-10T10:58:54Z'},\n",
       "   {'id': '7174',\n",
       "    'name': 'overlijden-en-huwelijkse-staat',\n",
       "    'title': 'Overlijden en huwelijkse staat',\n",
       "    'uri': 'https://data.overheid.nl/community/dataverzoeken/overlijden-en-huwelijkse-staat',\n",
       "    'description': 'Stadsarchief Breda Genealogie A2A Burgerlijke stand overlijden',\n",
       "    'theme': ['http://standaarden.overheid.nl/owms/terms/Gemeenten'],\n",
       "    'created': '2025-02-06T21:27:54Z',\n",
       "    'modified': '2025-02-10T10:58:35Z'}]}}"
      ]
     },
     "execution_count": 7,
     "metadata": {},
     "output_type": "execute_result"
    }
   ],
   "source": [
    "data"
   ]
  },
  {
   "cell_type": "code",
   "execution_count": 6,
   "metadata": {},
   "outputs": [
    {
     "data": {
      "application/vnd.jupyter.widget-view+json": {
       "model_id": "32021cf02abf4259bc3cf0603bbad4d1",
       "version_major": 2,
       "version_minor": 0
      },
      "text/plain": [
       "config.json:   0%|          | 0.00/1.58k [00:00<?, ?B/s]"
      ]
     },
     "metadata": {},
     "output_type": "display_data"
    },
    {
     "name": "stderr",
     "output_type": "stream",
     "text": [
      "c:\\Users\\caspe\\AppData\\Local\\Programs\\Python\\Python312\\Lib\\site-packages\\huggingface_hub\\file_download.py:147: UserWarning: `huggingface_hub` cache-system uses symlinks by default to efficiently store duplicated files but your machine does not support them in C:\\Users\\caspe\\.cache\\huggingface\\hub\\models--facebook--bart-large-cnn. Caching files will still work but in a degraded version that might require more space on your disk. This warning can be disabled by setting the `HF_HUB_DISABLE_SYMLINKS_WARNING` environment variable. For more details, see https://huggingface.co/docs/huggingface_hub/how-to-cache#limitations.\n",
      "To support symlinks on Windows, you either need to activate Developer Mode or to run Python as an administrator. In order to activate developer mode, see this article: https://docs.microsoft.com/en-us/windows/apps/get-started/enable-your-device-for-development\n",
      "  warnings.warn(message)\n"
     ]
    },
    {
     "name": "stdout",
     "output_type": "stream",
     "text": [
      "WARNING:tensorflow:From c:\\Users\\caspe\\AppData\\Local\\Programs\\Python\\Python312\\Lib\\site-packages\\tf_keras\\src\\losses.py:2976: The name tf.losses.sparse_softmax_cross_entropy is deprecated. Please use tf.compat.v1.losses.sparse_softmax_cross_entropy instead.\n",
      "\n"
     ]
    },
    {
     "data": {
      "application/vnd.jupyter.widget-view+json": {
       "model_id": "3dcf48dbd6134548b7611bbe5dde13ee",
       "version_major": 2,
       "version_minor": 0
      },
      "text/plain": [
       "model.safetensors:   0%|          | 0.00/1.63G [00:00<?, ?B/s]"
      ]
     },
     "metadata": {},
     "output_type": "display_data"
    },
    {
     "data": {
      "application/vnd.jupyter.widget-view+json": {
       "model_id": "e6ccc93c97b340a5ad4947228466664b",
       "version_major": 2,
       "version_minor": 0
      },
      "text/plain": [
       "generation_config.json:   0%|          | 0.00/363 [00:00<?, ?B/s]"
      ]
     },
     "metadata": {},
     "output_type": "display_data"
    },
    {
     "data": {
      "application/vnd.jupyter.widget-view+json": {
       "model_id": "3e59e6851a184f06a66365f9945611b2",
       "version_major": 2,
       "version_minor": 0
      },
      "text/plain": [
       "vocab.json:   0%|          | 0.00/899k [00:00<?, ?B/s]"
      ]
     },
     "metadata": {},
     "output_type": "display_data"
    },
    {
     "data": {
      "application/vnd.jupyter.widget-view+json": {
       "model_id": "a7afb10aa569458cbf318513f015be79",
       "version_major": 2,
       "version_minor": 0
      },
      "text/plain": [
       "merges.txt:   0%|          | 0.00/456k [00:00<?, ?B/s]"
      ]
     },
     "metadata": {},
     "output_type": "display_data"
    },
    {
     "data": {
      "application/vnd.jupyter.widget-view+json": {
       "model_id": "09ddd395ccdd4b918a86bdda8afdbb94",
       "version_major": 2,
       "version_minor": 0
      },
      "text/plain": [
       "tokenizer.json:   0%|          | 0.00/1.36M [00:00<?, ?B/s]"
      ]
     },
     "metadata": {},
     "output_type": "display_data"
    },
    {
     "name": "stdout",
     "output_type": "stream",
     "text": [
      "Title: WOZ waarde eigen woning\n",
      "Summary: WOZ waarde eigen woning\n",
      "------------------------------------------------------------\n",
      "Title: Dataverzoek DTenV\n",
      "Summary: Dataverzoek DTenV\n",
      "------------------------------------------------------------\n",
      "Title: Luchtkwaliteit Den Haag\n",
      "Summary: Luchtkwaliteit Den Haag\n",
      "------------------------------------------------------------\n",
      "Title: TVM van Nijenrodeweg 759 t/m 792\n",
      "Summary: TVM van Nijenrodeweg 759 t/m 792\n",
      "------------------------------------------------------------\n",
      "Title: Aantal huizen per straat in Grashoek\n",
      "Summary: Aantal huizen per straat in Grashoek\n",
      "------------------------------------------------------------\n",
      "Title: Basisbestand adressen\n",
      "Summary: Basisbestand adressen\n",
      "------------------------------------------------------------\n",
      "Title: Nie wiem \n",
      "Summary: Nie wiem\n",
      "------------------------------------------------------------\n",
      "Title: Typegoedkeuring Krone N/A aanhanger\n",
      "Summary: Typegoedkeuring Krone N/A aanhanger\n",
      "------------------------------------------------------------\n",
      "Title: Verzoek data van aanvragers Innovatiekrediet\n",
      "Summary: Verzoek data van aanvragers Innovatiekrediet\n",
      "------------------------------------------------------------\n",
      "Title: Overlijden en huwelijkse staat\n",
      "Summary: Overlijden en huwelijkse staat\n",
      "------------------------------------------------------------\n"
     ]
    },
    {
     "name": "stderr",
     "output_type": "stream",
     "text": [
      "c:\\Users\\caspe\\AppData\\Local\\Programs\\Python\\Python312\\Lib\\site-packages\\transformers\\tokenization_utils_base.py:1617: FutureWarning: `clean_up_tokenization_spaces` was not set. It will be set to `True` by default. This behavior will be deprecated in transformers v4.45, and will be then set to `False` by default. For more details check this issue: https://github.com/huggingface/transformers/issues/31884\n",
      "  warnings.warn(\n"
     ]
    }
   ],
   "source": [
    "import json\n",
    "from transformers import pipeline\n",
    "\n",
    "summarizer = pipeline(\"summarization\", model=\"facebook/bart-large-cnn\")\n",
    "\n",
    "def summarize_dataset(dataset):\n",
    "    title = dataset.get(\"title\", \"\")\n",
    "    notes = dataset.get(\"notes\", \"\")\n",
    "    description = \"\"\n",
    "\n",
    "    if dataset.get(\"resources\"):\n",
    "        description = dataset[\"resources\"][0].get(\"description\", \"\")\n",
    "\n",
    "    full_text = \" \".join([title, notes, description]).strip()\n",
    "    if len(full_text.split()) < 50:\n",
    "        return full_text\n",
    "    summary = summarizer(full_text, max_length=60, min_length=30, do_sample=False)\n",
    "    return summary[0]['summary_text']\n",
    "\n",
    "\n",
    "for dataset in data[\"result\"][\"results\"]:\n",
    "    title = dataset.get(\"title\", \"No Title\")\n",
    "    dataset_summary = summarize_dataset(dataset)\n",
    "    print(f\"Title: {title}\\nSummary: {dataset_summary}\\n{'-'*60}\")\n"
   ]
  },
  {
   "cell_type": "markdown",
   "metadata": {},
   "source": [
    "- filtering on keywords\n",
    "- filtering on metadata\n",
    "- NLP and LDA to categorize and summarize \n",
    "- "
   ]
  },
  {
   "cell_type": "code",
   "execution_count": null,
   "metadata": {},
   "outputs": [],
   "source": []
  }
 ],
 "metadata": {
  "kernelspec": {
   "display_name": "Python 3",
   "language": "python",
   "name": "python3"
  },
  "language_info": {
   "codemirror_mode": {
    "name": "ipython",
    "version": 3
   },
   "file_extension": ".py",
   "mimetype": "text/x-python",
   "name": "python",
   "nbconvert_exporter": "python",
   "pygments_lexer": "ipython3",
   "version": "3.12.0"
  }
 },
 "nbformat": 4,
 "nbformat_minor": 2
}
